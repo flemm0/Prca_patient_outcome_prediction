{
  "cells": [
    {
      "cell_type": "raw",
      "metadata": {},
      "source": [
        "---\n",
        "title: Predicting Prostate Cancer Patients' Vital Status Outcome\n",
        "author: Flemming Wu\n",
        "format: pptx\n",
        "---"
      ],
      "id": "a95b31c8"
    },
    {
      "cell_type": "code",
      "metadata": {},
      "source": [
        "import pandas as pd\n",
        "import numpy as np\n",
        "import matplotlib.pyplot as plt\n",
        "%matplotlib inline\n",
        "import seaborn as sns\n",
        "from sklearn.preprocessing import StandardScaler, OneHotEncoder\n",
        "from sklearn.model_selection import train_test_split\n",
        "from sklearn.pipeline import Pipeline\n",
        "from sklearn.linear_model import LogisticRegression\n",
        "from sklearn.tree import DecisionTreeClassifier\n",
        "from sklearn.ensemble import RandomForestClassifier\n",
        "from sklearn.neighbors import KNeighborsClassifier\n",
        "from sklearn.svm import SVC\n",
        "from sklearn.metrics import confusion_matrix, roc_auc_score, roc_curve\n",
        "from sklearn.model_selection import GridSearchCV, KFold\n",
        "from sklearn.feature_selection import f_classif, SelectKBest, RFE\n",
        "from imblearn.over_sampling import SMOTENC\n",
        "from boruta import BorutaPy\n",
        "from xgboost import XGBClassifier"
      ],
      "id": "14068f62",
      "execution_count": null,
      "outputs": []
    },
    {
      "cell_type": "code",
      "metadata": {},
      "source": [
        "clinical_df = pd.read_csv('./prad_msk_stopsack_2021_clinical_data.tsv', sep='\\t')\n",
        "clinical_df.columns = clinical_df.columns.str.replace(' ', '_').str.replace('\\'', '').str.lower()\n",
        "genomic_df = pd.read_csv('./data_cna.txt', sep='\\t').set_index('Hugo_Symbol').T.reset_index()\n",
        "\n",
        "df = pd.merge(clinical_df, genomic_df, how='left', left_on='sample_id', right_on='index').drop(columns=['index'])"
      ],
      "id": "69896597",
      "execution_count": null,
      "outputs": []
    },
    {
      "cell_type": "code",
      "metadata": {},
      "source": [
        "df.head()"
      ],
      "id": "efea07c5",
      "execution_count": null,
      "outputs": []
    }
  ],
  "metadata": {
    "kernelspec": {
      "name": "python3",
      "language": "python",
      "display_name": "Python 3"
    }
  },
  "nbformat": 4,
  "nbformat_minor": 5
}